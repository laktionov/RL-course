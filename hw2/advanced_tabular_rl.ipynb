{
  "cells": [
    {
      "cell_type": "code",
      "execution_count": null,
      "metadata": {
        "id": "ZoezzbSwHECu"
      },
      "outputs": [],
      "source": [
        "%matplotlib inline"
      ]
    },
    {
      "cell_type": "code",
      "execution_count": null,
      "metadata": {
        "collapsed": true,
        "id": "qYViC8bMHYJ3"
      },
      "outputs": [],
      "source": [
        "!pip install gymnasium==1.0.0\n",
        "!wget https://raw.githubusercontent.com/laktionov/RL-course/refs/heads/2025/hw2/agent_utils.py\n",
        "!wget https://raw.githubusercontent.com/laktionov/RL-course/refs/heads/2025/hw2/visualisation_utils.py"
      ]
    },
    {
      "cell_type": "markdown",
      "metadata": {
        "id": "SrfUcV4bHECx"
      },
      "source": [
        "\n",
        "# HW2: Случай в казино\n"
      ]
    },
    {
      "cell_type": "markdown",
      "metadata": {
        "id": "XIuAlB8EHECy"
      },
      "source": [
        "**Blackjack** is one of the most popular casino card games that is also\n",
        "infamous for being beatable under certain conditions. This version of\n",
        "the game uses an infinite deck (we draw the cards with replacement), so\n",
        "counting cards won’t be a viable strategy in our simulated game.\n",
        "Full documentation can be found at https://gymnasium.farama.org/environments/toy_text/blackjack\n",
        "\n",
        "**Objective**: To win, your card sum should be greater than the\n",
        "dealers without exceeding 21.\n",
        "\n",
        "**Actions**: Agents can pick between two actions:\n",
        " - Stick (0): the player takes no more cards\n",
        " - Hit (1): the player will be given another card, however the player could get over 21 and bust\n",
        "\n",
        "\n",
        "\n"
      ]
    },
    {
      "cell_type": "markdown",
      "metadata": {
        "id": "Zt3nhHiOHEC1"
      },
      "source": [
        "## Imports and Environment Setup\n",
        "\n",
        "\n"
      ]
    },
    {
      "cell_type": "code",
      "execution_count": 2,
      "metadata": {
        "id": "ePfoRAEJHEC2"
      },
      "outputs": [],
      "source": [
        "from collections import defaultdict\n",
        "\n",
        "import matplotlib.pyplot as plt\n",
        "import numpy as np\n",
        "import seaborn as sns\n",
        "from matplotlib.patches import Patch\n",
        "from tqdm import tqdm\n",
        "import gymnasium as gym"
      ]
    },
    {
      "cell_type": "markdown",
      "metadata": {
        "id": "e0Kyb6kOHEC3"
      },
      "source": [
        "## Observing the environment\n",
        "\n",
        "First of all, we call ``env.reset()`` to start an episode. This function\n",
        "resets the environment to a starting position and returns an initial\n",
        "``observation``. We usually also set ``done = False``. This variable\n",
        "will be useful later to check if a game is terminated (i.e., the player wins or loses).\n",
        "\n",
        "\n"
      ]
    },
    {
      "cell_type": "code",
      "execution_count": 7,
      "metadata": {
        "colab": {
          "base_uri": "https://localhost:8080/",
          "height": 453
        },
        "id": "2eqGbXRYHEC4",
        "outputId": "fbd5f73a-9daf-42a7-bec0-fef4ad67cac7"
      },
      "outputs": [
        {
          "data": {
            "text/plain": [
              "<matplotlib.image.AxesImage at 0x7fe2a1344790>"
            ]
          },
          "execution_count": 7,
          "metadata": {},
          "output_type": "execute_result"
        },
        {
          "data": {
            "image/png": "[encoded data removed]",
            "text/plain": [
              "<Figure size 432x288 with 1 Axes>"
            ]
          },
          "metadata": {
            "needs_background": "light"
          },
          "output_type": "display_data"
        }
      ],
      "source": [
        "# reset the environment to get the first observation\n",
        "env = gym.make(\"Blackjack-v1\", sab=True, render_mode=\"rgb_array\")\n",
        "state, _ = env.reset()\n",
        "\n",
        "plt.imshow(env.render())"
      ]
    },
    {
      "cell_type": "markdown",
      "metadata": {
        "id": "lfPIiTMuHEC4"
      },
      "source": [
        "Note that our observation is a 3-tuple consisting of 3 values:\n",
        "\n",
        "-  The players current sum\n",
        "-  Value of the dealers face-up card\n",
        "-  Boolean whether the player holds a usable ace (An ace is usable if it\n",
        "   counts as 11 without busting)\n",
        "\n",
        "\n"
      ]
    },
    {
      "cell_type": "markdown",
      "metadata": {
        "id": "jnyxD8kcHEC6"
      },
      "source": [
        "## Task 0: Create and train Q-learning agent (0 point)\n"
      ]
    },
    {
      "cell_type": "code",
      "execution_count": 142,
      "metadata": {
        "id": "Pdc5inG3HEC6"
      },
      "outputs": [],
      "source": [
        "from typing import TypeAlias\n",
        "\n",
        "StateType: TypeAlias = tuple[int, int, bool]\n",
        "\n",
        "\n",
        "class Agent:\n",
        "    def __init__(\n",
        "        self,\n",
        "        n_actions: int,\n",
        "        learning_rate: float,\n",
        "        epsilon: float,\n",
        "        discount_factor: float = 0.95,\n",
        "    ):\n",
        "        self.n_actions = n_actions\n",
        "        self.q_values = defaultdict(lambda: np.zeros(n_actions))\n",
        "\n",
        "        self.lr = learning_rate\n",
        "        self.discount_factor = discount_factor\n",
        "\n",
        "        self.epsilon = epsilon\n",
        "\n",
        "        self.mse = []\n",
        "\n",
        "    def on_episode_start(self):\n",
        "        pass\n",
        "\n",
        "    def get_best_action(self, state: StateType):\n",
        "        return #YOUR_CODE\n",
        "\n",
        "    def get_action(self, state: StateType) -> int:\n",
        "        # with probability epsilon return a random action to explore the environment\n",
        "        #YOUR_CODE\n",
        "\n",
        "\n",
        "class QLearningAgent(Agent):\n",
        "    def get_value(self, state: StateType):\n",
        "        return #YOUR_CODE\n",
        "\n",
        "    def update(\n",
        "        self,\n",
        "        state: StateType,\n",
        "        action: int,\n",
        "        reward: float,\n",
        "        terminated: bool,\n",
        "        next_state: StateType,\n",
        "    ):\n",
        "        \"\"\"Updates the Q-value of an action.\"\"\"\n",
        "        next_q_value = (1 - terminated) * self.get_value(next_state)\n",
        "        td_error = #YOUR_CODE\n",
        "\n",
        "        self.q_values[state][action] = #YOUR_CODE\n",
        "        self.mse.append(td_error**2)"
      ]
    },
    {
      "cell_type": "markdown",
      "metadata": {
        "id": "W-HnBKhBHEC6"
      },
      "source": [
        "To train the agent, we will let the agent play one episode (one complete\n",
        "game is called an episode) at a time and then update it’s Q-values after\n",
        "each episode. The agent will have to experience a lot of episodes to\n",
        "explore the environment sufficiently.\n",
        "\n",
        "Now we should be ready to build the training loop.\n",
        "\n",
        "\n"
      ]
    },
    {
      "cell_type": "code",
      "execution_count": null,
      "metadata": {
        "colab": {
          "base_uri": "https://localhost:8080/",
          "height": 568
        },
        "id": "UfPVv1qpkuYz",
        "outputId": "326501a0-9f26-4f8d-c115-a2ddee063aae"
      },
      "outputs": [],
      "source": [
        "from agent_utils import train_agent\n",
        "\n",
        "n_episodes = 300_000\n",
        "learning_rate = 4e-3\n",
        "n_actions = env.action_space.n\n",
        "epsilon = 1.0\n",
        "\n",
        "env = gym.make(\"Blackjack-v1\", sab=True)\n",
        "q_learning_agent = QLearningAgent(\n",
        "    n_actions=env.action_space.n,\n",
        "    learning_rate=learning_rate,\n",
        "    epsilon=epsilon,\n",
        ")\n",
        "train_agent(q_learning_agent, env, n_episodes, epsilon_decay=0.9)"
      ]
    },
    {
      "cell_type": "markdown",
      "metadata": {
        "id": "5HoiaQ1Nn45_"
      },
      "source": [
        "# Task 1: Implement Sarsa($\\lambda$) (up to 1 point)\n",
        "\n",
        "### 1.1 Eligibility Traces\n",
        "\n",
        "Eligibility traces are a mechanism to bridge between TD(0) methods and Monte-Carlo methods. They \"trace\" the states (and actions) visited recently, decaying over time, allowing updates to propagate backwards quickly.\n",
        "\n",
        "### 1.2. Sarsa($\\lambda$)\n",
        "\n",
        "Sarsa($\\lambda$) is an **on-policy** method that uses eligibility traces $e(s, a)$\n",
        "\n",
        "Initialise $Q(s, a)$\n",
        "\n",
        "Initialise $e(s, a)$ with zeros on each episode start\n",
        "\n",
        "1. Sample $a_t \\sim \\mu(.|s_t)$, where $\\mu(.|s_t)$ is $\\epsilon$-greedy policy w.r.t. current approximation of $Q$.\n",
        "2. Observe $r_t$ and $s_{t+1}$\n",
        "3. Calculate $ \\delta_t = r_t + \\gamma Q(s_{t+1}, a_{t+1}) - Q(s_t, a_t),$\n",
        "4. $ e(s_t, a_t) \\leftarrow e(s_t, a_t) + 1 $\n",
        "5. For **all** state-action pairs $(s, a)$:\n",
        "   * $Q(s,a) \\leftarrow Q(s,a) + \\alpha \\delta_t \\cdot e(s,a)$\n",
        "\n",
        "   * $e(s,a) \\leftarrow \\gamma \\lambda \\cdot e(s,a)$\n",
        "\n",
        "Sarsa($\\lambda$) uses the **action taken** by the current policy (often $\\epsilon$-greedy w.r.t. $Q$) for the bootstrap term."
      ]
    },
    {
      "cell_type": "code",
      "execution_count": 163,
      "metadata": {
        "id": "J55LHGsXofSI"
      },
      "outputs": [],
      "source": [
        "class SarsaAgent(Agent):\n",
        "    def __init__(\n",
        "        self,\n",
        "        n_actions: int,\n",
        "        learning_rate: float,\n",
        "        epsilon: float,\n",
        "        decay_factor: float,\n",
        "        discount_factor: float = 0.95,\n",
        "    ):\n",
        "        super().__init__(n_actions, learning_rate, epsilon, discount_factor)\n",
        "        self.decay_factor = decay_factor\n",
        "        self.on_episode_start()\n",
        "\n",
        "    def on_episode_start(self):\n",
        "        self.e_traces = defaultdict(lambda: np.zeros(self.n_actions))\n",
        "\n",
        "    def get_value(self, state: StateType):\n",
        "        #YOUR_CODE\n",
        "\n",
        "    def update(\n",
        "        self,\n",
        "        state: StateType,\n",
        "        action: int,\n",
        "        reward: float,\n",
        "        terminated: bool,\n",
        "        next_state: StateType,\n",
        "    ):\n",
        "        next_q_value = (1 - terminated) * self.get_value(next_state)\n",
        "        td_error = #YOUR_CODE\n",
        "        self.e_traces[state][action] = #YOUR_CODE\n",
        "        self.q_values[state][action] = #YOUR_CODE\n",
        "        for s in self.e_traces:\n",
        "            self.e_traces[s] = #YOUR_CODE\n",
        "\n",
        "        self.mse.append(td_error**2)"
      ]
    },
    {
      "cell_type": "code",
      "execution_count": null,
      "metadata": {
        "colab": {
          "base_uri": "https://localhost:8080/",
          "height": 382
        },
        "id": "sQTYe81nXgxK",
        "outputId": "f31f740d-d938-4491-bce7-beab3ce7371f"
      },
      "outputs": [],
      "source": [
        "n_episodes = 300_000\n",
        "learning_rate = 4e-3\n",
        "n_actions = env.action_space.n\n",
        "epsilon = 1.0\n",
        "\n",
        "env = gym.make(\"Blackjack-v1\", sab=True)\n",
        "sarsa_agent = SarsaAgent(\n",
        "    n_actions=env.action_space.n,\n",
        "    learning_rate=learning_rate,\n",
        "    epsilon=epsilon,\n",
        "    decay_factor=0.9,\n",
        ")\n",
        "train_agent(sarsa_agent, env, n_episodes, epsilon_decay=0.9)"
      ]
    },
    {
      "cell_type": "markdown",
      "metadata": {
        "id": "VekS3Jg1oPFl"
      },
      "source": [
        "# Task 2: Implement Expected Value Sarsa($\\lambda$) (up to 0.5 point)\n",
        "\n"
      ]
    },
    {
      "cell_type": "code",
      "execution_count": 166,
      "metadata": {
        "id": "ItC2895goZ95"
      },
      "outputs": [],
      "source": [
        "class EVSarsaAgent(SarsaAgent):\n",
        "    def get_value(self, state: StateType):\n",
        "        #YOUR_CODE\n",
        "        return value"
      ]
    },
    {
      "cell_type": "code",
      "execution_count": null,
      "metadata": {
        "colab": {
          "base_uri": "https://localhost:8080/",
          "height": 880
        },
        "id": "IBEoOvSLbUl3",
        "outputId": "d0d3c998-1516-47c7-c2c4-d2fca96d3e77"
      },
      "outputs": [],
      "source": [
        "env = gym.make(\"Blackjack-v1\", sab=True)\n",
        "expected_sarsa_agent = EVSarsaAgent(\n",
        "    n_actions=env.action_space.n,\n",
        "    learning_rate=learning_rate,\n",
        "    epsilon=epsilon,\n",
        "    decay_factor=0.9,\n",
        ")\n",
        "\n",
        "train_agent(expected_sarsa_agent, env, n_episodes, epsilon_decay=0.9)"
      ]
    },
    {
      "cell_type": "markdown",
      "metadata": {
        "id": "cj3Y59-WqM2S"
      },
      "source": [
        "# Task 3: Analysis (up to 0.5 point)"
      ]
    },
    {
      "cell_type": "code",
      "execution_count": null,
      "metadata": {
        "id": "l3SbChfaugg_"
      },
      "outputs": [],
      "source": [
        "from visualisation_utils import visualise_strategy\n",
        "from agent_utils import evaluate_agent"
      ]
    },
    {
      "cell_type": "markdown",
      "metadata": {
        "id": "XDTPwCbBHEC8"
      },
      "source": [
        "\n",
        "Write a brief report on your experiments. You may want to train several agents with different hyperparameters.\n",
        "\n",
        "* Use `visualise_strategy` and `evaluate_agent` to support your conclusions.\n",
        "* Compare the agents' strategies and evaluation performance with default parameters (Q-learning vs Sarsa(0.9) vs EVSarsa(0.9)).\n",
        "* Compare the agents' strategies and evaluation performance with $\\lambda = 0$ (Q-learning vs Sarsa(0) vs EVSarsa(0)). Why don't we use N-step targets or eligibility traces for Q-learning?\n",
        "* Compare Sarsa($\\lambda$) for different $\\lambda$ values.\n",
        "* Draw any conclusions you find relevant.\n",
        "\n"
      ]
    }
  ],
  "metadata": {
    "colab": {
      "provenance": []
    },
    "kernelspec": {
      "display_name": "base",
      "language": "python",
      "name": "python3"
    },
    "language_info": {
      "codemirror_mode": {
        "name": "ipython",
        "version": 3
      },
      "file_extension": ".py",
      "mimetype": "text/x-python",
      "name": "python",
      "nbconvert_exporter": "python",
      "pygments_lexer": "ipython3",
      "version": "3.9.7"
    }
  },
  "nbformat": 4,
  "nbformat_minor": 0
}
